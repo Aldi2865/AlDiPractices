{
 "cells": [
  {
   "cell_type": "markdown",
   "metadata": {},
   "source": [
    "## Крок 2 ============================="
   ]
  },
  {
   "cell_type": "markdown",
   "metadata": {},
   "source": [
    "# Практична робота 1.5\n",
    "\n",
    "1. Група 5206\n",
    "\n",
    "2. Ім'я: Олександр\n",
    "\n",
    "## 3. Email:\n",
    "    - uwav9852@outlook.com"
   ]
  },
  {
   "cell_type": "markdown",
   "metadata": {},
   "source": [
    "## Крок 3 ============================="
   ]
  },
  {
   "cell_type": "code",
   "execution_count": 1,
   "metadata": {},
   "outputs": [
    {
     "name": "stdout",
     "output_type": "stream",
     "text": [
      "Hello, World and Jupiter Notebook in VS Code!\n"
     ]
    }
   ],
   "source": [
    "print(\"Hello, World and Jupiter Notebook in VS Code!\")"
   ]
  },
  {
   "cell_type": "markdown",
   "metadata": {},
   "source": [
    "## Крок 4 ============================="
   ]
  },
  {
   "cell_type": "code",
   "execution_count": 2,
   "metadata": {},
   "outputs": [
    {
     "name": "stdout",
     "output_type": "stream",
     "text": [
      "Olexandr 35 1.7 False\n",
      "<class 'str'> <class 'int'> <class 'float'> <class 'bool'>\n"
     ]
    }
   ],
   "source": [
    "name = \"Olexandr\"  # str\n",
    "age = 35        # int\n",
    "height = 1.70   # float\n",
    "is_student = False  # bool\n",
    "\n",
    "print(name, age, height, is_student)\n",
    "print(type(name), type(age), type(height), type(is_student))"
   ]
  },
  {
   "cell_type": "markdown",
   "metadata": {},
   "source": [
    "Крок 4.2 =================================================="
   ]
  },
  {
   "cell_type": "code",
   "execution_count": 3,
   "metadata": {},
   "outputs": [
    {
     "name": "stdout",
     "output_type": "stream",
     "text": [
      "Результат множення 5 на 3: 15\n"
     ]
    }
   ],
   "source": [
    "user_input = input(\"Введіть ціле число: \")\n",
    "number = int(user_input)  # перетворюємо з рядка у ціле\n",
    "result = number * 3\n",
    "print(f\"Результат множення {number} на 3: {result}\")"
   ]
  },
  {
   "cell_type": "markdown",
   "metadata": {},
   "source": [
    "## Крок 5 ============================="
   ]
  },
  {
   "cell_type": "markdown",
   "metadata": {},
   "source": [
    "Крок 5.1. =================================="
   ]
  },
  {
   "cell_type": "code",
   "execution_count": 1,
   "metadata": {},
   "outputs": [
    {
     "name": "stdout",
     "output_type": "stream",
     "text": [
      "Вітаємо, Ви вже переросли!\n"
     ]
    }
   ],
   "source": [
    "age = int(input(\"Введіть ваш вік: \"))\n",
    "if age < 18:\n",
    "    print(\"Ви ще не доросли.\")\n",
    "else:\n",
    "    print(\"Вітаємо, Ви вже переросли!\")"
   ]
  },
  {
   "cell_type": "markdown",
   "metadata": {},
   "source": [
    "Крок 5.2 ==============================="
   ]
  },
  {
   "cell_type": "code",
   "execution_count": 11,
   "metadata": {},
   "outputs": [
    {
     "name": "stdout",
     "output_type": "stream",
     "text": [
      "1\n",
      "2\n",
      "3\n",
      "4\n",
      "5\n",
      "6\n",
      "7\n",
      "8\n",
      "9\n",
      "10\n",
      "11\n",
      "12\n",
      "13\n"
     ]
    }
   ],
   "source": [
    "s=1\n",
    "e=3\n",
    "for i in range(s, e+10+1):\n",
    "    print(i)"
   ]
  },
  {
   "cell_type": "code",
   "execution_count": 9,
   "metadata": {},
   "outputs": [
    {
     "name": "stdout",
     "output_type": "stream",
     "text": [
      "13\n",
      "12\n",
      "11\n",
      "10\n",
      "9\n",
      "8\n",
      "7\n",
      "6\n",
      "5\n",
      "4\n",
      "3\n",
      "2\n",
      "1\n"
     ]
    }
   ],
   "source": [
    "s = 3\n",
    "e = 1\n",
    "j = s + 10\n",
    "while j >= e:\n",
    "    print(j)\n",
    "    j -= 1"
   ]
  },
  {
   "cell_type": "markdown",
   "metadata": {},
   "source": [
    "## Крок 6 ========================================"
   ]
  },
  {
   "cell_type": "code",
   "execution_count": 15,
   "metadata": {},
   "outputs": [
    {
     "name": "stdout",
     "output_type": "stream",
     "text": [
      "Простий калькулятор\n",
      "Результат: 6.0\n"
     ]
    }
   ],
   "source": [
    "print(\"Простий калькулятор\")\n",
    "tryAgain = True\n",
    "num1 = float(input(\"Введіть перше число: \").strip())\n",
    "num2 = float(input(\"Введіть друге число: \").strip())\n",
    "operation = input(\"Оберіть операцію (+, -, *, /): \").strip()\n",
    "while tryAgain:\n",
    "    if operation == \"+\":\n",
    "        result = num1 + num2\n",
    "        tryAgain = False\n",
    "    elif operation == \"-\":\n",
    "        result = num1 - num2\n",
    "        tryAgain = False\n",
    "    elif operation == \"*\":\n",
    "        result = num1 * num2\n",
    "        tryAgain = False\n",
    "    elif operation == \"/\":\n",
    "        if num2 == 0:\n",
    "            result = \"Помилка: ділення на нуль!\"\n",
    "            tryAgain = True\n",
    "        else:\n",
    "            result = num1 / num2\n",
    "            tryAgain = False\n",
    "    else:\n",
    "        result = \"Невідома операція! Пробуємо ще раз.\"\n",
    "        tryAgain = True\n",
    "\n",
    "print(\"Результат:\", result)"
   ]
  }
 ],
 "metadata": {
  "kernelspec": {
   "display_name": "Python 3",
   "language": "python",
   "name": "python3"
  },
  "language_info": {
   "codemirror_mode": {
    "name": "ipython",
    "version": 3
   },
   "file_extension": ".py",
   "mimetype": "text/x-python",
   "name": "python",
   "nbconvert_exporter": "python",
   "pygments_lexer": "ipython3",
   "version": "3.11.9"
  }
 },
 "nbformat": 4,
 "nbformat_minor": 2
}
