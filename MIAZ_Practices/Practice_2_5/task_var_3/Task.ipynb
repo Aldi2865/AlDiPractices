{
 "cells": [
  {
   "cell_type": "markdown",
   "metadata": {},
   "source": [
    "### Загальне завдання:\n",
    "1. **Створіть базу даних з двома таблицями**: одна таблиця містить інформацію про персонал, друга — про відповідні підрозділи або операції.\n",
    "2. **Заповніть базу даних із файлу Excel**.\n",
    "3. **Створіть та виконайте 20 SQL-запитів** для вибірки даних, з'єднання таблиць (JOIN), групування (GROUP BY), фільтрації (WHERE) та інших операцій.\n",
    "4. **Збережіть результат у файли та завантажте у відповідну папку репозиторію GitHub**."
   ]
  },
  {
   "cell_type": "markdown",
   "metadata": {},
   "source": [
    "#### **Варіант 3**: Планування операцій\n",
    "- **Таблиця 1: Operations_Staff**\n",
    "  - Поля: `ID`, `Name`, `Role`, `Operation_ID`, `Date_Assigned`.\n",
    "- **Таблиця 2: Operations**\n",
    "  - Поля: `Operation_ID`, `Operation_Name`, `Commander`, `Operation_Start_Date`, `Operation_End_Date`."
   ]
  }
 ],
 "metadata": {
  "language_info": {
   "name": "python"
  }
 },
 "nbformat": 4,
 "nbformat_minor": 2
}
