{
 "cells": [
  {
   "cell_type": "markdown",
   "metadata": {},
   "source": [
    "### 3. **Система моніторингу запасів боєприпасів**\n",
    "- **Назва бази даних:** `AmmunitionSupplyDB`\n",
    "- **Таблиця:** `AmmunitionStock`\n",
    "- **Поля:** `AmmunitionID`, `Type`, `Quantity`, `StorageLocation`, `ExpirationDate`"
   ]
  }
 ],
 "metadata": {
  "language_info": {
   "name": "python"
  }
 },
 "nbformat": 4,
 "nbformat_minor": 2
}
